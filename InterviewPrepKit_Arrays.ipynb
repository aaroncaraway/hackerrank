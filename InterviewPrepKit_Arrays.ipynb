{
 "cells": [
  {
   "cell_type": "markdown",
   "metadata": {},
   "source": [
    "## Minimum Swaps\n",
    "Found [here](https://www.hackerrank.com/challenges/minimum-swaps-2/problem?h_l=interview&playlist_slugs%5B%5D=interview-preparation-kit&playlist_slugs%5B%5D=arrays)\n",
    "\n",
    "You are given an unordered array consisting of consecutive integers  [1, 2, 3, ..., n] without any duplicates. You are allowed to swap any two elements. You need to find the minimum number of swaps required to sort the array in ascending order."
   ]
  },
  {
   "cell_type": "code",
   "execution_count": 108,
   "metadata": {},
   "outputs": [],
   "source": [
    "def min_swaps(arr):\n",
    "    n = len(arr) - 1\n",
    "    count = 0\n",
    "    for i in range(len(arr)):\n",
    "        if arr[n-i-1] > arr[n-i]:\n",
    "            count +=1\n",
    "            print(arr)\n",
    "            arr[n-i], arr[n-i-1] = arr[n-i-1], arr[n-i]\n",
    "            \n",
    "    print(count)"
   ]
  },
  {
   "cell_type": "code",
   "execution_count": 109,
   "metadata": {},
   "outputs": [
    {
     "name": "stdout",
     "output_type": "stream",
     "text": [
      "[2, 3, 4, 1, 5]\n",
      "[2, 3, 1, 4, 5]\n",
      "[2, 1, 3, 4, 5]\n",
      "[1, 2, 3, 4, 5]\n",
      "4\n"
     ]
    }
   ],
   "source": [
    "min_swaps([2, 3, 4, 1, 5])"
   ]
  },
  {
   "cell_type": "code",
   "execution_count": 110,
   "metadata": {},
   "outputs": [],
   "source": [
    "def min_swaps(arr):\n",
    "    n = len(arr) - 1\n",
    "    count = 0\n",
    "    for i in range(len(arr)):\n",
    "        if arr[n-i-1] > arr[n-i]:\n",
    "            if arr[i] != i+1:\n",
    "                pass\n",
    "            else:\n",
    "                count +=1\n",
    "            print(arr)\n",
    "            arr[n-i], arr[n-i-1] = arr[n-i-1], arr[n-i]\n",
    "    print(count)"
   ]
  },
  {
   "cell_type": "code",
   "execution_count": 104,
   "metadata": {},
   "outputs": [
    {
     "name": "stdout",
     "output_type": "stream",
     "text": [
      "[2, 3, 4, 1, 5]\n",
      "[2, 3, 1, 4, 5]\n",
      "[2, 1, 3, 4, 5]\n",
      "[1, 2, 3, 4, 5]\n",
      "2\n"
     ]
    }
   ],
   "source": [
    "min_swaps([2, 3, 4, 1, 5])"
   ]
  },
  {
   "cell_type": "code",
   "execution_count": 96,
   "metadata": {},
   "outputs": [],
   "source": [
    "def min_swaps(arr):\n",
    "    count = 0\n",
    "    t = 0\n",
    "    for i in range(len(arr)):\n",
    "        if arr[t] == i+1:\n",
    "            print('nope')\n",
    "        else:\n",
    "            test = arr[i] - 1\n",
    "            arr[i], arr[test] = arr[test], arr[i]\n",
    "            count += 1\n",
    "            print(arr)\n",
    "    print(count)"
   ]
  },
  {
   "cell_type": "code",
   "execution_count": 81,
   "metadata": {},
   "outputs": [
    {
     "name": "stdout",
     "output_type": "stream",
     "text": [
      "[3, 2, 4, 1, 5]\n",
      "nope\n",
      "[3, 2, 1, 4, 5]\n",
      "nope\n",
      "nope\n",
      "2\n"
     ]
    }
   ],
   "source": [
    "min_swaps([2, 3, 4, 1, 5])"
   ]
  },
  {
   "cell_type": "code",
   "execution_count": null,
   "metadata": {},
   "outputs": [],
   "source": []
  }
 ],
 "metadata": {
  "kernelspec": {
   "display_name": "Python 3",
   "language": "python",
   "name": "python3"
  },
  "language_info": {
   "codemirror_mode": {
    "name": "ipython",
    "version": 3
   },
   "file_extension": ".py",
   "mimetype": "text/x-python",
   "name": "python",
   "nbconvert_exporter": "python",
   "pygments_lexer": "ipython3",
   "version": "3.7.5"
  }
 },
 "nbformat": 4,
 "nbformat_minor": 2
}
